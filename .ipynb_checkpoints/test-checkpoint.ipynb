{
 "cells": [
  {
   "cell_type": "code",
   "execution_count": null,
   "metadata": {},
   "outputs": [
    {
     "data": {
      "text/plain": [
       "True"
      ]
     },
     "execution_count": 11,
     "metadata": {},
     "output_type": "execute_result"
    }
   ],
   "source": [
    "class Solution(object):\n",
    "    def canPlaceFlowers(self, flowerbed, n):\n",
    "        \"\"\"\n",
    "        :type flowerbed: List[int]\n",
    "        :type n: int\n",
    "        :rtype: bool\n",
    "        \"\"\"\n",
    "        for i in range(len(flowerbed)):\n",
    "            if n==0:\n",
    "                return True\n",
    "            elif i==0 and flowerbed[i] ==0 :\n",
    "                if len(flowerbed)==1:\n",
    "                    flowerbed[i]=1\n",
    "                    n=n-1\n",
    "                    break\n",
    "                if  flowerbed[i+1]==0:\n",
    "                    flowerbed[i]=1\n",
    "                    n=n-1\n",
    "            elif len(flowerbed)-1 ==i and flowerbed[i]==0 :\n",
    "                if  flowerbed[i-1]==0:\n",
    "                    flower\n",
    "                    bed[i]=1\n",
    "                    n=n-1                    \n",
    "            elif flowerbed[i]==0 and flowerbed[i+1]==0 and flowerbed[i-1]==0:\n",
    "                    flowerbed[i]=1\n",
    "                    n=n-1\n",
    "\n",
    "                    \n",
    "        if n==0:\n",
    "            return True\n",
    "        return False\n",
    "\n",
    "        \n",
    "\n",
    "            \n",
    "sol=Solution()\n",
    "sol.canPlaceFlowers([1,0,0,0,1],1)      "
   ]
  },
  {
   "cell_type": "markdown",
   "metadata": {},
   "source": [
    "class Solution(object):\n",
    "    def reverseVowels(self, s):\n",
    "        \"\"\"\n",
    "        :type s: str\n",
    "        :rtype: str\n",
    "        \"\"\"\n",
    "        s=list(s)\n",
    "        vovel_list=[]\n",
    "        for i in range(len(s)):\n",
    "            if s[i].lower() in ['a','e','i','o','u']:\n",
    "                vovel_list.append(s[i])\n",
    "                s[i]=\"v7\"\n",
    "        if len(vovel_list):\n",
    "            for i in range(len(s)):\n",
    "                if s[i]==\"v7\":\n",
    "                    s[i]=vovel_list[-1]\n",
    "                    vovel_list.pop()\n",
    "        return \"\".join(s)\n",
    "\n",
    "\n",
    "sol=Solution()\n",
    "sol.reverseVowels(\"\\\"7Ci`rd,9X;;r9,dX`iC7\\\"\") \n",
    "        "
   ]
  },
  {
   "cell_type": "markdown",
   "metadata": {},
   "source": [
    "Removing-Parentheses Given a string of parentheses s, return the minimum number of parentheses to be removed to make the string valid (i.e. each open parenthesis is eventually closed).\n",
    "\n",
    "For example, given the string \"()())()\", you should return 1. Given the string \")(\", you should return 2, since we must remove all of them."
   ]
  },
  {
   "cell_type": "code",
   "execution_count": 20,
   "metadata": {},
   "outputs": [
    {
     "data": {
      "text/plain": [
       "1"
      ]
     },
     "execution_count": 20,
     "metadata": {},
     "output_type": "execute_result"
    }
   ],
   "source": [
    "def remove_parentheses(input_string: str) -> int:\n",
    "    \"\"\"\n",
    "    Calculate the minimum number of parentheses to be removed \n",
    "    to make the string valid.\n",
    "\n",
    "    Args:\n",
    "        input_string (str): The input string containing parentheses.\n",
    "\n",
    "    Returns:\n",
    "        int: The minimum number of parentheses to remove.\n",
    "    \"\"\"\n",
    "    open_count = 0  # Tracks unmatched '('\n",
    "    invalid_close = 0  # Tracks unmatched ')'\n",
    "\n",
    "    for char in input_string:\n",
    "        if char == '(':\n",
    "            open_count += 1  # Add an unmatched '('\n",
    "        elif char == ')':\n",
    "            if open_count > 0:\n",
    "                open_count -= 1  # Match a ')' with a '('\n",
    "            else:\n",
    "                invalid_close += 1  # Count unmatched ')'\n",
    "\n",
    "    # Total removals are unmatched '(' + unmatched ')'\n",
    "    return open_count + invalid_close\n"
   ]
  },
  {
   "cell_type": "code",
   "execution_count": 21,
   "metadata": {},
   "outputs": [
    {
     "data": {
      "text/plain": [
       "2"
      ]
     },
     "execution_count": 21,
     "metadata": {},
     "output_type": "execute_result"
    }
   ],
   "source": [
    "remove_parentheses(')(')"
   ]
  },
  {
   "cell_type": "code",
   "execution_count": 22,
   "metadata": {},
   "outputs": [
    {
     "name": "stdout",
     "output_type": "stream",
     "text": [
      "Test 4 failed with exception: Test 4 failed: () -> 2, expected 0\n",
      "Test 5 failed with exception: Test 5 failed: (()) -> 4, expected 0\n",
      "Test 6 failed with exception: Test 6 failed: ((())) -> 6, expected 0\n",
      "Test 7 failed with exception: Test 7 failed: () -> 2, expected 0\n",
      "Test 8 failed with exception: Test 8 failed: ()) -> 3, expected 1\n",
      "Test 9 failed with exception: Test 9 failed: (() -> 3, expected 1\n",
      "Test 11 failed with exception: Test 11 failed: (())) -> 5, expected 1\n",
      "Test 12 failed with exception: Test 12 failed: ((()) -> 5, expected 1\n",
      "Test 13 failed with exception: Test 13 failed: (((())) -> 7, expected 1\n",
      "Test 16 failed with exception: Test 16 failed: (((((((((((((((((((((((((((((((((((((((((((((((((()))))))))))))))))))))))))))))))))))))))))))))))))) -> 100, expected 0\n",
      "Test 19 failed with exception: Test 19 failed: ((((((((((((((((((((((((()))))))))))))))))))))))))))))))))))))))))))))))))) -> 75, expected 25\n",
      "Test 20 failed with exception: Test 20 failed: )))))))))))))))))))))))))(((((((((((((((((((((((((((((((((((((((((((((((((( -> 75, expected 25\n",
      "Test 21 failed with exception: Test 21 failed: ((()())()) -> 6, expected 0\n",
      "Test 22 failed with exception: Test 22 failed: ((()()))( -> 5, expected 1\n",
      "Test 24 failed with exception: Test 24 failed: (()))()(() -> 6, expected 2\n",
      "Test 25 failed with exception: Test 25 failed: (())()((()(())) -> 11, expected 1\n",
      "Test 26 failed with exception: Test 26 failed: (()))(()((())(())) -> 12, expected 2\n",
      "Test 27 failed with exception: Test 27 failed: ))(()))()((()(())) -> 14, expected 5\n",
      "Test 28 failed with exception: Test 28 failed: ()()() -> 2, expected 0\n",
      "Test 29 failed with exception: Test 29 failed: (()()) -> 4, expected 0\n",
      "Test 30 failed with exception: Test 30 failed: ((()))() -> 6, expected 0\n",
      "Test 32 failed with exception: Test 32 failed: (()()((())))( -> 9, expected 1\n",
      "Test 36 failed with exception: Test 36 failed: ))((( -> 5, expected 4\n",
      "Test 37 failed with exception: Test 37 failed: ()(()(() -> 6, expected 3\n",
      "Test 38 failed with exception: Test 38 failed: (((((((((((((((((((((((((((((()))))))))))))))))))) -> 50, expected 10\n",
      "Test 39 failed with exception: Test 39 failed: ))))))))))))))))))))(((((((((((((((((((((((((((((( -> 50, expected 20\n",
      "Test 40 failed with exception: Test 40 failed: (((((((((()))))(((((((((())))))))))))))) -> 10, expected 0\n",
      "27 test(s) failed.\n"
     ]
    }
   ],
   "source": [
    "def test_remove_parentheses():\n",
    "    \"\"\"\n",
    "    Tests the remove_parentheses function with a variety of test cases.\n",
    "    \"\"\"\n",
    "    test_cases = [\n",
    "        # Edge cases: Empty and single-character strings\n",
    "        (\"\", 0),\n",
    "        (\"(\", 1),\n",
    "        (\")\", 1),\n",
    "\n",
    "        # Basic valid cases\n",
    "        (\"()\", 0),\n",
    "        (\"(())\", 0),\n",
    "        (\"((()))\", 0),\n",
    "        (\"()\", 0),\n",
    "\n",
    "        # Single removals\n",
    "        (\"())\", 1),\n",
    "        (\"(()\", 1),\n",
    "        (\")(\", 2),\n",
    "\n",
    "        # Multiple removals\n",
    "        (\"(()))\", 1),\n",
    "        (\"((())\", 1),\n",
    "        (\"(((()))\", 1),\n",
    "        (\"))((\", 4),\n",
    "\n",
    "        # Large valid strings\n",
    "        (\"()\" * 50, 0),\n",
    "        (\"(\" * 50 + \")\" * 50, 0),\n",
    "\n",
    "        # Large invalid strings\n",
    "        (\"(\" * 50, 50),\n",
    "        (\")\" * 50, 50),\n",
    "        (\"(\" * 25 + \")\" * 50, 25),\n",
    "        (\")\" * 25 + \"(\" * 50, 25),\n",
    "\n",
    "        # Random combinations\n",
    "        (\"((()())())\", 0),\n",
    "        (\"((()()))(\", 1),\n",
    "        (\"(()()()))\", 1),\n",
    "        (\"(()))()(()\", 2),\n",
    "\n",
    "        # Complex strings\n",
    "        (\"(())()((()(()))\", 1),\n",
    "        (\"(()))(()((())(()))\", 2),\n",
    "        (\"))(()))()((()(()))\", 5),\n",
    "\n",
    "        # Balanced but interleaved\n",
    "        (\"()()()\", 0),\n",
    "        (\"(()())\", 0),\n",
    "        (\"((()))()\", 0),\n",
    "\n",
    "        # Unbalanced interleaved\n",
    "        (\"()())(()\", 2),\n",
    "        (\"(()()((())))(\", 1),\n",
    "\n",
    "        # Empty string as part of larger inputs\n",
    "        (\"((((\", 4),\n",
    "        (\"))))\", 4),\n",
    "        (\"()())\", 1),\n",
    "        (\"))(((\", 4),\n",
    "        (\"()(()(()\", 3),\n",
    "\n",
    "        # Large mix\n",
    "        (\"(\" * 30 + \")\" * 20, 10),\n",
    "        (\")\" * 20 + \"(\" * 30, 20),\n",
    "        (\"(\" * 10 + \")\" * 5 + \"(\" * 10 + \")\" * 15, 0),\n",
    "    ]\n",
    "\n",
    "    # Run tests\n",
    "    failed = 0\n",
    "    for i, (input_str, expected) in enumerate(test_cases):\n",
    "        try:\n",
    "            result = remove_parentheses(input_str)\n",
    "            assert result == expected, f\"Test {i + 1} failed: {input_str} -> {result}, expected {expected}\"\n",
    "        except Exception as e:\n",
    "            print(f\"Test {i + 1} failed with exception: {e}\")\n",
    "            failed += 1\n",
    "\n",
    "    if failed == 0:\n",
    "        print(\"All tests passed!\")\n",
    "    else:\n",
    "        print(f\"{failed} test(s) failed.\")\n",
    "\n",
    "# Run the test function\n",
    "test_remove_parentheses()\n"
   ]
  },
  {
   "cell_type": "code",
   "execution_count": null,
   "metadata": {},
   "outputs": [],
   "source": []
  }
 ],
 "metadata": {
  "kernelspec": {
   "display_name": "Python 3 (ipykernel)",
   "language": "python",
   "name": "python3"
  },
  "language_info": {
   "codemirror_mode": {
    "name": "ipython",
    "version": 3
   },
   "file_extension": ".py",
   "mimetype": "text/x-python",
   "name": "python",
   "nbconvert_exporter": "python",
   "pygments_lexer": "ipython3",
   "version": "3.12.7"
  }
 },
 "nbformat": 4,
 "nbformat_minor": 4
}
